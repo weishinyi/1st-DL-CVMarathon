{
 "cells": [
  {
   "cell_type": "markdown",
   "metadata": {},
   "source": [
    "## 『本次練習內容』\n",
    "#### 運用這幾天所學觀念搭建一個CNN分類器"
   ]
  },
  {
   "cell_type": "markdown",
   "metadata": {},
   "source": [
    "## 『本次練習目的』\n",
    "  #### 熟悉CNN分類器搭建步驟與原理\n",
    "  #### 學員們可以嘗試不同搭法，如使用不同的Maxpooling層，用GlobalAveragePooling取代Flatten等等"
   ]
  },
  {
   "cell_type": "code",
   "execution_count": 1,
   "metadata": {},
   "outputs": [
    {
     "name": "stderr",
     "output_type": "stream",
     "text": [
      "Using TensorFlow backend.\n"
     ]
    }
   ],
   "source": [
    "from keras.models import Sequential\n",
    "from keras.layers import Convolution2D\n",
    "from keras.layers import MaxPooling2D\n",
    "from keras.layers import Flatten\n",
    "from keras.layers import Dense\n",
    "from keras.layers import Dropout\n",
    "from keras.layers import BatchNormalization\n",
    "from keras.datasets import cifar10\n",
    "import numpy as np\n",
    "import tensorflow as tf\n",
    "from sklearn.preprocessing import OneHotEncoder\n"
   ]
  },
  {
   "cell_type": "code",
   "execution_count": 2,
   "metadata": {},
   "outputs": [
    {
     "name": "stdout",
     "output_type": "stream",
     "text": [
      "(50000, 32, 32, 3)\n"
     ]
    }
   ],
   "source": [
    "(x_train, y_train), (x_test, y_test) = cifar10.load_data()\n",
    "\n",
    "print(x_train.shape) #(50000, 32, 32, 3)\n",
    "\n",
    "## Normalize Data\n",
    "def normalize(X_train,X_test):\n",
    "        mean = np.mean(X_train,axis=(0,1,2,3))\n",
    "        std = np.std(X_train, axis=(0, 1, 2, 3))\n",
    "        X_train = (X_train-mean)/(std+1e-7)\n",
    "        X_test = (X_test-mean)/(std+1e-7) \n",
    "        return X_train, X_test,mean,std\n",
    "    \n",
    "    \n",
    "## Normalize Training and Testset    \n",
    "x_train, x_test,mean_train,std_train = normalize(x_train, x_test) "
   ]
  },
  {
   "cell_type": "code",
   "execution_count": 3,
   "metadata": {},
   "outputs": [
    {
     "name": "stderr",
     "output_type": "stream",
     "text": [
      "C:\\Users\\fired\\.conda\\envs\\env_py35\\lib\\site-packages\\sklearn\\preprocessing\\_encoders.py:363: FutureWarning: The handling of integer data will change in version 0.22. Currently, the categories are determined based on the range [0, max(values)], while in the future they will be determined based on the unique values.\n",
      "If you want the future behaviour and silence this warning, you can specify \"categories='auto'\".\n",
      "In case you used a LabelEncoder before this OneHotEncoder to convert the categories to integers, then you can now use the OneHotEncoder directly.\n",
      "  warnings.warn(msg, FutureWarning)\n"
     ]
    }
   ],
   "source": [
    "## OneHot Label 由(None, 1)-(None, 10)\n",
    "## ex. label=2,變成[0,0,1,0,0,0,0,0,0,0]\n",
    "one_hot=OneHotEncoder()\n",
    "y_train=one_hot.fit_transform(y_train).toarray()\n",
    "y_test=one_hot.transform(y_test).toarray()"
   ]
  },
  {
   "cell_type": "code",
   "execution_count": 10,
   "metadata": {},
   "outputs": [
    {
     "name": "stderr",
     "output_type": "stream",
     "text": [
      "C:\\Users\\fired\\.conda\\envs\\env_py35\\lib\\site-packages\\ipykernel_launcher.py:5: UserWarning: Update your `Conv2D` call to the Keras 2 API: `Conv2D(32, (3, 3), activation=\"relu\", input_shape=(32, 32, 3...)`\n",
      "  \"\"\"\n",
      "C:\\Users\\fired\\.conda\\envs\\env_py35\\lib\\site-packages\\ipykernel_launcher.py:6: UserWarning: Update your `Conv2D` call to the Keras 2 API: `Conv2D(64, (3, 3), activation=\"relu\")`\n",
      "  \n",
      "C:\\Users\\fired\\.conda\\envs\\env_py35\\lib\\site-packages\\ipykernel_launcher.py:11: UserWarning: Update your `Conv2D` call to the Keras 2 API: `Conv2D(32, (3, 3), activation=\"relu\")`\n",
      "  # This is added back by InteractiveShellApp.init_path()\n",
      "C:\\Users\\fired\\.conda\\envs\\env_py35\\lib\\site-packages\\ipykernel_launcher.py:12: UserWarning: Update your `Conv2D` call to the Keras 2 API: `Conv2D(64, (3, 3), activation=\"relu\")`\n",
      "  if sys.path[0] == '':\n",
      "C:\\Users\\fired\\.conda\\envs\\env_py35\\lib\\site-packages\\ipykernel_launcher.py:17: UserWarning: Update your `Conv2D` call to the Keras 2 API: `Conv2D(32, (3, 3), activation=\"relu\")`\n",
      "C:\\Users\\fired\\.conda\\envs\\env_py35\\lib\\site-packages\\ipykernel_launcher.py:18: UserWarning: Update your `Conv2D` call to the Keras 2 API: `Conv2D(64, (3, 3), activation=\"relu\")`\n",
      "C:\\Users\\fired\\.conda\\envs\\env_py35\\lib\\site-packages\\ipykernel_launcher.py:29: UserWarning: Update your `Dense` call to the Keras 2 API: `Dense(activation=\"softmax\", units=10)`\n"
     ]
    },
    {
     "name": "stdout",
     "output_type": "stream",
     "text": [
      "Epoch 1/100\n",
      "50000/50000 [==============================] - 232s 5ms/step - loss: 1.3819 - acc: 0.5025\n",
      "Epoch 2/100\n",
      "50000/50000 [==============================] - 230s 5ms/step - loss: 0.9722 - acc: 0.6560\n",
      "Epoch 3/100\n",
      "50000/50000 [==============================] - 232s 5ms/step - loss: 0.8054 - acc: 0.7156\n",
      "Epoch 4/100\n",
      "50000/50000 [==============================] - 228s 5ms/step - loss: 0.7081 - acc: 0.7510\n",
      "Epoch 5/100\n",
      "50000/50000 [==============================] - 227s 5ms/step - loss: 0.6375 - acc: 0.7764\n",
      "Epoch 6/100\n",
      "50000/50000 [==============================] - 226s 5ms/step - loss: 0.5830 - acc: 0.7931\n",
      "Epoch 7/100\n",
      "50000/50000 [==============================] - 227s 5ms/step - loss: 0.5349 - acc: 0.8117\n",
      "Epoch 8/100\n",
      "50000/50000 [==============================] - 227s 5ms/step - loss: 0.4937 - acc: 0.8270\n",
      "Epoch 9/100\n",
      "50000/50000 [==============================] - 227s 5ms/step - loss: 0.4541 - acc: 0.8385\n",
      "Epoch 10/100\n",
      "50000/50000 [==============================] - 227s 5ms/step - loss: 0.4182 - acc: 0.8515\n",
      "Epoch 11/100\n",
      "50000/50000 [==============================] - 227s 5ms/step - loss: 0.3864 - acc: 0.8627\n",
      "Epoch 12/100\n",
      "50000/50000 [==============================] - 225s 4ms/step - loss: 0.3579 - acc: 0.8721\n",
      "Epoch 13/100\n",
      "50000/50000 [==============================] - 224s 4ms/step - loss: 0.3282 - acc: 0.8826\n",
      "Epoch 14/100\n",
      "50000/50000 [==============================] - 224s 4ms/step - loss: 0.3037 - acc: 0.8899\n",
      "Epoch 15/100\n",
      "50000/50000 [==============================] - 224s 4ms/step - loss: 0.2825 - acc: 0.8987\n",
      "Epoch 16/100\n",
      "50000/50000 [==============================] - 225s 4ms/step - loss: 0.2622 - acc: 0.9067\n",
      "Epoch 17/100\n",
      "50000/50000 [==============================] - 224s 4ms/step - loss: 0.2386 - acc: 0.9134\n",
      "Epoch 18/100\n",
      "50000/50000 [==============================] - 224s 4ms/step - loss: 0.2247 - acc: 0.9193\n",
      "Epoch 19/100\n",
      "50000/50000 [==============================] - 223s 4ms/step - loss: 0.2103 - acc: 0.9243\n",
      "Epoch 20/100\n",
      "50000/50000 [==============================] - 223s 4ms/step - loss: 0.2014 - acc: 0.9271\n",
      "Epoch 21/100\n",
      "50000/50000 [==============================] - 223s 4ms/step - loss: 0.1840 - acc: 0.9334\n",
      "Epoch 22/100\n",
      "50000/50000 [==============================] - 228s 5ms/step - loss: 0.1751 - acc: 0.9373\n",
      "Epoch 23/100\n",
      "50000/50000 [==============================] - 232s 5ms/step - loss: 0.1640 - acc: 0.9404\n",
      "Epoch 24/100\n",
      "50000/50000 [==============================] - 232s 5ms/step - loss: 0.1581 - acc: 0.9433\n",
      "Epoch 25/100\n",
      "50000/50000 [==============================] - 226s 5ms/step - loss: 0.1437 - acc: 0.9473\n",
      "Epoch 26/100\n",
      "50000/50000 [==============================] - 223s 4ms/step - loss: 0.1412 - acc: 0.9485\n",
      "Epoch 27/100\n",
      "50000/50000 [==============================] - 223s 4ms/step - loss: 0.1362 - acc: 0.9513\n",
      "Epoch 28/100\n",
      "50000/50000 [==============================] - 222s 4ms/step - loss: 0.1248 - acc: 0.9546\n",
      "Epoch 29/100\n",
      "50000/50000 [==============================] - 223s 4ms/step - loss: 0.1276 - acc: 0.9542\n",
      "Epoch 30/100\n",
      "50000/50000 [==============================] - 222s 4ms/step - loss: 0.1151 - acc: 0.9594\n",
      "Epoch 31/100\n",
      "50000/50000 [==============================] - 222s 4ms/step - loss: 0.1146 - acc: 0.9586\n",
      "Epoch 32/100\n",
      "50000/50000 [==============================] - 223s 4ms/step - loss: 0.1097 - acc: 0.9596\n",
      "Epoch 33/100\n",
      "50000/50000 [==============================] - 224s 4ms/step - loss: 0.1121 - acc: 0.9595\n",
      "Epoch 34/100\n",
      "50000/50000 [==============================] - 223s 4ms/step - loss: 0.1039 - acc: 0.9622\n",
      "Epoch 35/100\n",
      "50000/50000 [==============================] - 222s 4ms/step - loss: 0.1009 - acc: 0.9643\n",
      "Epoch 36/100\n",
      "50000/50000 [==============================] - 223s 4ms/step - loss: 0.0957 - acc: 0.9655\n",
      "Epoch 37/100\n",
      "50000/50000 [==============================] - 223s 4ms/step - loss: 0.0970 - acc: 0.9652\n",
      "Epoch 38/100\n",
      "50000/50000 [==============================] - 223s 4ms/step - loss: 0.0847 - acc: 0.9702\n",
      "Epoch 39/100\n",
      "50000/50000 [==============================] - 224s 4ms/step - loss: 0.0879 - acc: 0.9691\n",
      "Epoch 40/100\n",
      "50000/50000 [==============================] - 224s 4ms/step - loss: 0.0865 - acc: 0.9696\n",
      "Epoch 41/100\n",
      "50000/50000 [==============================] - 224s 4ms/step - loss: 0.0889 - acc: 0.9691\n",
      "Epoch 42/100\n",
      "50000/50000 [==============================] - 224s 4ms/step - loss: 0.0829 - acc: 0.9699\n",
      "Epoch 43/100\n",
      "50000/50000 [==============================] - 224s 4ms/step - loss: 0.0753 - acc: 0.9733\n",
      "Epoch 44/100\n",
      "50000/50000 [==============================] - 224s 4ms/step - loss: 0.0838 - acc: 0.9705\n",
      "Epoch 45/100\n",
      "50000/50000 [==============================] - 223s 4ms/step - loss: 0.0824 - acc: 0.9703\n",
      "Epoch 46/100\n",
      "50000/50000 [==============================] - 224s 4ms/step - loss: 0.0710 - acc: 0.9746\n",
      "Epoch 47/100\n",
      "50000/50000 [==============================] - 224s 4ms/step - loss: 0.0738 - acc: 0.9728\n",
      "Epoch 48/100\n",
      "50000/50000 [==============================] - 224s 4ms/step - loss: 0.0726 - acc: 0.9745\n",
      "Epoch 49/100\n",
      "50000/50000 [==============================] - 224s 4ms/step - loss: 0.0742 - acc: 0.9740\n",
      "Epoch 50/100\n",
      "50000/50000 [==============================] - 224s 4ms/step - loss: 0.0669 - acc: 0.9762\n",
      "Epoch 51/100\n",
      "50000/50000 [==============================] - 223s 4ms/step - loss: 0.0600 - acc: 0.9788\n",
      "Epoch 52/100\n",
      "50000/50000 [==============================] - 224s 4ms/step - loss: 0.0647 - acc: 0.9772\n",
      "Epoch 53/100\n",
      "50000/50000 [==============================] - 223s 4ms/step - loss: 0.0741 - acc: 0.9735\n",
      "Epoch 54/100\n",
      "50000/50000 [==============================] - 225s 4ms/step - loss: 0.0642 - acc: 0.9774\n",
      "Epoch 55/100\n",
      "50000/50000 [==============================] - 224s 4ms/step - loss: 0.0606 - acc: 0.9781\n",
      "Epoch 56/100\n",
      "50000/50000 [==============================] - 224s 4ms/step - loss: 0.0599 - acc: 0.9781\n",
      "Epoch 57/100\n",
      "50000/50000 [==============================] - 224s 4ms/step - loss: 0.0685 - acc: 0.9755\n",
      "Epoch 58/100\n",
      "50000/50000 [==============================] - 224s 4ms/step - loss: 0.0563 - acc: 0.9803\n",
      "Epoch 59/100\n",
      "50000/50000 [==============================] - 224s 4ms/step - loss: 0.0518 - acc: 0.9816\n",
      "Epoch 60/100\n",
      "50000/50000 [==============================] - 224s 4ms/step - loss: 0.0586 - acc: 0.9795\n",
      "Epoch 61/100\n",
      "50000/50000 [==============================] - 224s 4ms/step - loss: 0.0618 - acc: 0.9783\n",
      "Epoch 62/100\n",
      "50000/50000 [==============================] - 225s 4ms/step - loss: 0.0562 - acc: 0.9798\n",
      "Epoch 63/100\n",
      "50000/50000 [==============================] - 224s 4ms/step - loss: 0.0569 - acc: 0.9800\n",
      "Epoch 64/100\n",
      "50000/50000 [==============================] - 224s 4ms/step - loss: 0.0554 - acc: 0.9808\n",
      "Epoch 65/100\n",
      "50000/50000 [==============================] - 224s 4ms/step - loss: 0.0547 - acc: 0.9807\n",
      "Epoch 66/100\n",
      "50000/50000 [==============================] - 224s 4ms/step - loss: 0.0526 - acc: 0.9820\n",
      "Epoch 67/100\n",
      "50000/50000 [==============================] - 224s 4ms/step - loss: 0.0490 - acc: 0.9829\n",
      "Epoch 68/100\n",
      "50000/50000 [==============================] - 224s 4ms/step - loss: 0.0530 - acc: 0.9818\n",
      "Epoch 69/100\n",
      "50000/50000 [==============================] - 224s 4ms/step - loss: 0.0550 - acc: 0.9811\n",
      "Epoch 70/100\n",
      "50000/50000 [==============================] - 224s 4ms/step - loss: 0.0478 - acc: 0.9829\n",
      "Epoch 71/100\n",
      "50000/50000 [==============================] - 225s 4ms/step - loss: 0.0506 - acc: 0.9820\n",
      "Epoch 72/100\n",
      "50000/50000 [==============================] - 225s 4ms/step - loss: 0.0596 - acc: 0.9791\n",
      "Epoch 73/100\n",
      "50000/50000 [==============================] - 224s 4ms/step - loss: 0.0454 - acc: 0.9844\n",
      "Epoch 74/100\n",
      "50000/50000 [==============================] - 225s 4ms/step - loss: 0.0451 - acc: 0.9839\n",
      "Epoch 75/100\n",
      "50000/50000 [==============================] - 225s 4ms/step - loss: 0.0498 - acc: 0.9833\n",
      "Epoch 76/100\n",
      "50000/50000 [==============================] - 224s 4ms/step - loss: 0.0396 - acc: 0.9864\n",
      "Epoch 77/100\n",
      "50000/50000 [==============================] - 225s 4ms/step - loss: 0.0454 - acc: 0.9846\n",
      "Epoch 78/100\n",
      "50000/50000 [==============================] - 224s 4ms/step - loss: 0.0518 - acc: 0.9815\n",
      "Epoch 79/100\n",
      "50000/50000 [==============================] - 224s 4ms/step - loss: 0.0471 - acc: 0.9833\n",
      "Epoch 80/100\n"
     ]
    },
    {
     "name": "stdout",
     "output_type": "stream",
     "text": [
      "50000/50000 [==============================] - 224s 4ms/step - loss: 0.0428 - acc: 0.9839\n",
      "Epoch 81/100\n",
      "50000/50000 [==============================] - 225s 4ms/step - loss: 0.0410 - acc: 0.9856\n",
      "Epoch 82/100\n",
      "50000/50000 [==============================] - 224s 4ms/step - loss: 0.0359 - acc: 0.9878\n",
      "Epoch 83/100\n",
      "50000/50000 [==============================] - 225s 4ms/step - loss: 0.0456 - acc: 0.9839\n",
      "Epoch 84/100\n",
      "50000/50000 [==============================] - 225s 4ms/step - loss: 0.0431 - acc: 0.9849\n",
      "Epoch 85/100\n",
      "50000/50000 [==============================] - 225s 4ms/step - loss: 0.0463 - acc: 0.9841\n",
      "Epoch 86/100\n",
      "50000/50000 [==============================] - 224s 4ms/step - loss: 0.0385 - acc: 0.9867\n",
      "Epoch 87/100\n",
      "50000/50000 [==============================] - 224s 4ms/step - loss: 0.0372 - acc: 0.9871\n",
      "Epoch 88/100\n",
      "50000/50000 [==============================] - 225s 4ms/step - loss: 0.0443 - acc: 0.9840\n",
      "Epoch 89/100\n",
      "50000/50000 [==============================] - 224s 4ms/step - loss: 0.0395 - acc: 0.9864\n",
      "Epoch 90/100\n",
      "50000/50000 [==============================] - 224s 4ms/step - loss: 0.0389 - acc: 0.9860\n",
      "Epoch 91/100\n",
      "50000/50000 [==============================] - 224s 4ms/step - loss: 0.0438 - acc: 0.9845\n",
      "Epoch 92/100\n",
      "50000/50000 [==============================] - 224s 4ms/step - loss: 0.0383 - acc: 0.9864\n",
      "Epoch 93/100\n",
      "50000/50000 [==============================] - 224s 4ms/step - loss: 0.0384 - acc: 0.9869\n",
      "Epoch 94/100\n",
      "50000/50000 [==============================] - 225s 4ms/step - loss: 0.0402 - acc: 0.9855\n",
      "Epoch 95/100\n",
      "50000/50000 [==============================] - 224s 4ms/step - loss: 0.0325 - acc: 0.9891\n",
      "Epoch 96/100\n",
      "50000/50000 [==============================] - 225s 4ms/step - loss: 0.0383 - acc: 0.9869\n",
      "Epoch 97/100\n",
      "50000/50000 [==============================] - 224s 4ms/step - loss: 0.0419 - acc: 0.9854\n",
      "Epoch 98/100\n",
      "50000/50000 [==============================] - 224s 4ms/step - loss: 0.0362 - acc: 0.9874\n",
      "Epoch 99/100\n",
      "50000/50000 [==============================] - 224s 4ms/step - loss: 0.0355 - acc: 0.9872\n",
      "Epoch 100/100\n",
      "50000/50000 [==============================] - 225s 4ms/step - loss: 0.0353 - acc: 0.9884\n"
     ]
    },
    {
     "data": {
      "text/plain": [
       "<keras.callbacks.History at 0x200657dad68>"
      ]
     },
     "execution_count": 10,
     "metadata": {},
     "output_type": "execute_result"
    }
   ],
   "source": [
    "\n",
    "classifier=Sequential()\n",
    "\n",
    "#卷積組合 1\n",
    "classifier.add(Convolution2D(32, 3,3, input_shape=(32,32,3), activation='relu'))\n",
    "classifier.add(Convolution2D(64,3,3, activation='relu'))\n",
    "classifier.add(BatchNormalization())\n",
    "classifier.add(MaxPooling2D(pool_size=(2,2)))\n",
    "\n",
    "#卷積組合 2\n",
    "classifier.add(Convolution2D(32,3,3, activation='relu'))\n",
    "classifier.add(Convolution2D(64,3,3, activation='relu'))\n",
    "classifier.add(BatchNormalization())\n",
    "classifier.add(MaxPooling2D(pool_size=(2,2)))\n",
    "\n",
    "#卷積組合 3\n",
    "classifier.add(Convolution2D(32,3,3, activation='relu'))\n",
    "classifier.add(Convolution2D(64,3,3, activation='relu'))\n",
    "classifier.add(BatchNormalization())\n",
    "#classifier.add(MaxPooling2D(pool_size=(2,2)))\n",
    "\n",
    "#flatten\n",
    "classifier.add(Flatten())\n",
    "\n",
    "#FC\n",
    "classifier.add(Dense(100)) \n",
    "\n",
    "#輸出\n",
    "classifier.add(Dense(output_dim=10,activation='softmax'))\n",
    "\n",
    "#超過兩個就要選categorical_crossentrophy\n",
    "classifier.compile(optimizer = 'adam', loss = 'categorical_crossentropy', metrics = ['accuracy'])\n",
    "classifier.fit(x_train,y_train,batch_size=100,epochs=100)"
   ]
  },
  {
   "cell_type": "markdown",
   "metadata": {},
   "source": [
    "## 預測新圖片，輸入影像前處理要與訓練時相同\n",
    "#### ((X-mean)/(std+1e-7) ):這裡的mean跟std是訓練集的\n",
    "## 維度如下方示範"
   ]
  },
  {
   "cell_type": "code",
   "execution_count": 16,
   "metadata": {},
   "outputs": [
    {
     "data": {
      "text/plain": [
       "array([[1.8894283e-06, 5.9930571e-08, 8.3488859e-03, 5.8178383e-01,\n",
       "        4.0903011e-01, 6.4012106e-08, 4.1464309e-04, 8.3338572e-09,\n",
       "        4.2055527e-04, 2.9282949e-09]], dtype=float32)"
      ]
     },
     "execution_count": 16,
     "metadata": {},
     "output_type": "execute_result"
    }
   ],
   "source": [
    "input_example=(np.zeros(shape=(1,32,32,3))-mean_train)/(std_train+1e-7) \n",
    "classifier.predict(input_example)"
   ]
  },
  {
   "cell_type": "code",
   "execution_count": 12,
   "metadata": {},
   "outputs": [
    {
     "name": "stdout",
     "output_type": "stream",
     "text": [
      "10000/10000 [==============================] - 25s 3ms/step\n"
     ]
    },
    {
     "data": {
      "text/plain": [
       "[1.7533952531814576, 0.7542]"
      ]
     },
     "execution_count": 12,
     "metadata": {},
     "output_type": "execute_result"
    }
   ],
   "source": [
    "classifier.evaluate(x_test, y_test)"
   ]
  }
 ],
 "metadata": {
  "kernelspec": {
   "display_name": "Python 3",
   "language": "python",
   "name": "python3"
  },
  "language_info": {
   "codemirror_mode": {
    "name": "ipython",
    "version": 3
   },
   "file_extension": ".py",
   "mimetype": "text/x-python",
   "name": "python",
   "nbconvert_exporter": "python",
   "pygments_lexer": "ipython3",
   "version": "3.5.6"
  }
 },
 "nbformat": 4,
 "nbformat_minor": 2
}
